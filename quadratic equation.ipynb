{
 "cells": [
  {
   "cell_type": "code",
   "execution_count": 1,
   "metadata": {},
   "outputs": [],
   "source": [
    "import numpy as np\n",
    "import matplotlib.pyplot as plt\n",
    "import tensorflow as tf"
   ]
  },
  {
   "cell_type": "code",
   "execution_count": 33,
   "metadata": {},
   "outputs": [
    {
     "name": "stdout",
     "output_type": "stream",
     "text": [
      "[ 3.99983597]\n"
     ]
    },
    {
     "data": {
      "image/png": "[encoded data removed]",
      "text/plain": [
       "<matplotlib.figure.Figure at 0x15c436ebf60>"
      ]
     },
     "metadata": {},
     "output_type": "display_data"
    }
   ],
   "source": [
    "coefficients=np.array([[1,-10,25]])\n",
    "\n",
    "w=tf.Variable([0],dtype=tf.float32)#initializing weight with value 0\n",
    "c=tf.placeholder(tf.float32,[1,3])#will store coefficients\n",
    "\n",
    "#cost= w**2 - 10*w + 25\n",
    "\n",
    "#cost=(c[0][0]*w)**2 + c[0][1]*w + c[0][2]\n",
    "\n",
    "cost = (w-4)**2\n",
    "train=tf.train.GradientDescentOptimizer(0.01).minimize(cost)\n",
    "\n",
    "sess=tf.Session()\n",
    "sess.run(tf.global_variables_initializer())\n",
    "#session.run(train)\n",
    "x=np.array([])\n",
    "y=np.array([])\n",
    "\n",
    "for i in range(500):\n",
    "    #sess.run(train,feed_dict={c:coefficients})\n",
    "    sess.run(train)\n",
    "    x=np.append(x,[i])\n",
    "    y=np.append(y,[sess.run(w)])\n",
    "\n",
    "print(sess.run(w))\n",
    "\n",
    "plt.plot(x,y)\n",
    "plt.show()"
   ]
  },
  {
   "cell_type": "code",
   "execution_count": null,
   "metadata": {},
   "outputs": [],
   "source": []
  },
  {
   "cell_type": "code",
   "execution_count": null,
   "metadata": {},
   "outputs": [],
   "source": []
  }
 ],
 "metadata": {
  "kernelspec": {
   "display_name": "Python 3",
   "language": "python",
   "name": "python3"
  },
  "language_info": {
   "codemirror_mode": {
    "name": "ipython",
    "version": 3
   },
   "file_extension": ".py",
   "mimetype": "text/x-python",
   "name": "python",
   "nbconvert_exporter": "python",
   "pygments_lexer": "ipython3",
   "version": "3.5.2"
  }
 },
 "nbformat": 4,
 "nbformat_minor": 2
}
